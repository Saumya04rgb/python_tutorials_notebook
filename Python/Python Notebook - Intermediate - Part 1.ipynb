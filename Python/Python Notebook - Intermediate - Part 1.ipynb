{
 "cells": [
  {
   "cell_type": "markdown",
   "metadata": {
    "ExecuteTime": {
     "end_time": "2018-09-28T13:08:15.778858Z",
     "start_time": "2018-09-28T13:08:15.773206Z"
    }
   },
   "source": [
    "<div style=\"display:block\">\n",
    "    <div style=\"width: 100%; display: inline-block\">\n",
    "        <h5  style=\"color:maroon; text-align: center; font-size:25px;\">Python Tutorials - Intermediate - Part 1</h5>\n",
    "        <div style=\"width: 90%; text-align: center; display: inline-block;\"><strong>Author: </strong>TAMOGHNA SAHA\n",
    "        </div>\n",
    "    </div>\n",
    "</div>\n",
    "\n",
    "<img src=\"Photos/python-intermediate.png\" width=\"1080\">\n",
    "\n",
    "<div>\n",
    "    <div style=\"width: 100%; text-align: right; display: inline-block;\">\n",
    "        <i>Modified: May 24th, 2020</i>\n",
    "    </div>\n",
    "</div>"
   ]
  },
  {
   "cell_type": "markdown",
   "metadata": {},
   "source": [
    "# Data Structures <a name=\"more_types\"></a>\n",
    "\n",
    "__List of immutable objects:__\n",
    "* bool\n",
    "* int\n",
    "* float\n",
    "* str\n",
    "* tuple\n",
    "* frozenset\n",
    "\n",
    "__List of mutable objects:__\n",
    "* list\n",
    "* set\n",
    "* dict\n",
    "\n",
    "## List\n",
    "\n",
    "List is a type of __mutable__ object in Python used to store an __indexed__ list of item. It is created using __square brackets__ with commas separating the items. A certain item from the list can be accessed using it's index number.\n",
    "\n",
    "An empty list is created using an empty pair of square brackets.\n",
    "\n",
    "A list can contain items of a __single item type or multiple item type__. A list within a list is also possible which is used to represent 2D grids as Python, by default, lacks multi-dimensional array feature. But this can be achieved using __numpy__ which we will discuss in our Advanced Notebook.\n",
    "\n",
    "__NOTE__: Strings can be indexed like a list."
   ]
  },
  {
   "cell_type": "code",
   "execution_count": 1,
   "metadata": {
    "ExecuteTime": {
     "end_time": "2020-05-24T14:53:15.285515Z",
     "start_time": "2020-05-24T14:53:15.277043Z"
    }
   },
   "outputs": [
    {
     "name": "stdout",
     "output_type": "stream",
     "text": [
      "Python\n",
      "Tuple\n",
      "__________________________________________________\n",
      "\n",
      "3.6\n",
      "['Python', 2.7, ['Up Next', 'Tuple']]\n",
      "__________________________________________________\n",
      "\n",
      "In our last class, we went through UDF\n"
     ]
    }
   ],
   "source": [
    "empty_list = []\n",
    "\n",
    "words = ['Python',3.6,['Up Next','Tuple']]\n",
    "\n",
    "print(words[0])\n",
    "print(words[2][1])\n",
    "\n",
    "print('_'*50+'\\n')\n",
    "print(words[1])\n",
    "words[1]=2.7\n",
    "print(words)\n",
    "\n",
    "print('_'*50+'\\n')\n",
    "# accessing items of string by index\n",
    "short_form = \"User Defined Function\"\n",
    "print(\"In our last class, we went through {}{}{}\".format(short_form[0], short_form[5], short_form[13]))"
   ]
  },
  {
   "cell_type": "code",
   "execution_count": 2,
   "metadata": {
    "ExecuteTime": {
     "end_time": "2020-05-24T14:53:16.491408Z",
     "start_time": "2020-05-24T14:53:16.484067Z"
    },
    "scrolled": false
   },
   "outputs": [
    {
     "name": "stdout",
     "output_type": "stream",
     "text": [
      "[1, 2, 3, 4, 5, 6]\n",
      "[1, 2, 3, 1, 2, 3]\n",
      "__________________________________________________\n",
      "\n",
      "Boolean check of value available in list\n",
      "False\n",
      "True\n",
      "False\n"
     ]
    }
   ],
   "source": [
    "# basic list operations\n",
    "\n",
    "num_list = [1,2,3]\n",
    "\n",
    "print(num_list + [4,5,6])\n",
    "print(num_list * 2)\n",
    "\n",
    "print('_'*50+'\\n')\n",
    "print('Boolean check of value available in list')\n",
    "print(4 in num_list)\n",
    "print(9 not in num_list)\n",
    "print(not 1 in num_list)"
   ]
  },
  {
   "cell_type": "code",
   "execution_count": 3,
   "metadata": {
    "ExecuteTime": {
     "end_time": "2020-05-24T14:53:17.643623Z",
     "start_time": "2020-05-24T14:53:17.622665Z"
    }
   },
   "outputs": [
    {
     "name": "stdout",
     "output_type": "stream",
     "text": [
      "var_1: 9\n",
      "var_2: 6\n",
      "lst_1: [1, 2, 3, 4]\n",
      "lst_2: [1, 2, 3, 4]\n"
     ]
    }
   ],
   "source": [
    "var_1 = 6\n",
    "var_2 = var_1\n",
    "var_1 = 9\n",
    "\n",
    "print(\"var_1: {}\".format(var_1))\n",
    "print(\"var_2: {}\".format(var_2))\n",
    "\n",
    "lst_1 = [1,2,3]\n",
    "lst_2 = lst_1\n",
    "lst_1.append(4)\n",
    "\n",
    "print(\"lst_1: {}\".format(lst_1))\n",
    "print(\"lst_2: {}\".format(lst_2))"
   ]
  },
  {
   "cell_type": "markdown",
   "metadata": {},
   "source": [
    "This is happening because when you create a list (or any iterable) and assign it to a variable `lst_1`, you have to think of this variable as __POINTING to the list rather than being EQUAL to it__. Yes, the concept of pointer comes into picture. \n",
    "\n",
    "Whenever you assign another variable `lst_2` to the one you already have assigned the list, __both variables point to the SAME list object__ in the memory. _Any modification in one variable will be reflected in ALL the other variables pointing to it_.\n",
    "\n",
    "__Any way to avoid this?__\n",
    "\n",
    "Yes, use __`copy`__ method while assigning one variable against the other variable."
   ]
  },
  {
   "cell_type": "code",
   "execution_count": 4,
   "metadata": {
    "ExecuteTime": {
     "end_time": "2020-05-24T14:53:20.130808Z",
     "start_time": "2020-05-24T14:53:20.123440Z"
    }
   },
   "outputs": [
    {
     "name": "stdout",
     "output_type": "stream",
     "text": [
      "lst_1: [1, 2, 3, 4]\n",
      "lst_2: [1, 2, 3]\n"
     ]
    }
   ],
   "source": [
    "lst_1 = [1,2,3]\n",
    "lst_2 = lst_1.copy()\n",
    "lst_1.append(4)\n",
    "\n",
    "print(\"lst_1: {}\".format(lst_1))\n",
    "print(\"lst_2: {}\".format(lst_2))"
   ]
  },
  {
   "cell_type": "markdown",
   "metadata": {},
   "source": [
    "### List functions and methods"
   ]
  },
  {
   "cell_type": "markdown",
   "metadata": {},
   "source": [
    "__`append`__ adds the argument in the format it is provided but __`extend`__ adds it in an element level if provided with container type argument."
   ]
  },
  {
   "cell_type": "code",
   "execution_count": 5,
   "metadata": {
    "ExecuteTime": {
     "end_time": "2020-05-24T14:53:22.614063Z",
     "start_time": "2020-05-24T14:53:22.606365Z"
    }
   },
   "outputs": [
    {
     "name": "stdout",
     "output_type": "stream",
     "text": [
      "[1, 2, 3, 4, [5, 6]]\n",
      "5\n",
      "__________________________________________________\n",
      "\n",
      "[1, 2, 3, 4, [5, 6], 7, 8, 9]\n",
      "8\n"
     ]
    }
   ],
   "source": [
    "# Modifying and adding elements\n",
    "num = [1,2,3]\n",
    "num.append(4)\n",
    "num.append([5,6])\n",
    "print(num)\n",
    "print(len(num))\n",
    "\n",
    "print('_'*50+'\\n')\n",
    "\n",
    "num.extend([7,8,9])\n",
    "print(num)\n",
    "print(len(num))"
   ]
  },
  {
   "cell_type": "code",
   "execution_count": 6,
   "metadata": {
    "ExecuteTime": {
     "end_time": "2020-05-24T14:53:23.747126Z",
     "start_time": "2020-05-24T14:53:23.734595Z"
    },
    "scrolled": true
   },
   "outputs": [
    {
     "name": "stdout",
     "output_type": "stream",
     "text": [
      "[1, 2, 2.5, 3, 4, [5, 6], 7, 8, 9]\n",
      "3\n",
      "1\n",
      "__________________________________________________\n",
      "\n",
      "[1, 2, 2.5, 3, 4, 7, 8, 9]\n",
      "[1, 2.5, 3, 4, 8]\n"
     ]
    }
   ],
   "source": [
    "# Operations based on index values\n",
    "index = 2\n",
    "num.insert(index, 2.5)\n",
    "print(num)\n",
    "\n",
    "print(num.index(3))\n",
    "print(num.index(2.0))\n",
    "\n",
    "print('_'*50+'\\n')\n",
    "\n",
    "num.remove([5,6])\n",
    "print(num)\n",
    "\n",
    "del num[-3]\n",
    "num.pop()\n",
    "num.pop(1)\n",
    "print(num)"
   ]
  },
  {
   "cell_type": "markdown",
   "metadata": {},
   "source": [
    "The __`sort()`__ _method_ changes the order of a list __permanently__. \n",
    "\n",
    "The __`sorted()`__ _function_ returns a copy of the list, leaving the original list unchanged."
   ]
  },
  {
   "cell_type": "code",
   "execution_count": 7,
   "metadata": {
    "ExecuteTime": {
     "end_time": "2020-05-24T14:53:25.603088Z",
     "start_time": "2020-05-24T14:53:25.591709Z"
    }
   },
   "outputs": [
    {
     "name": "stdout",
     "output_type": "stream",
     "text": [
      "Using sort: [-1, 1, 2.5, 3, 4, 6, 8, 10, 15]\n",
      "Original: [1, 2.5, 3, 4, 8, 10, -1, 6, 15]\n",
      "__________________________________________________\n",
      "\n",
      "Using sorted: [15, 10, 8, 6, 4, 3, 2.5, 1, -1]\n",
      "Original: [1, 2.5, 3, 4, 8, 10, -1, 6, 15]\n",
      "__________________________________________________\n",
      "\n",
      "max:  15\n",
      "count:  0\n",
      "__________________________________________________\n",
      "\n",
      "Using reverse: [15, 6, -1, 10, 8, 4, 3, 2.5, 1]\n"
     ]
    }
   ],
   "source": [
    "# Sorting elements\n",
    "num.extend([10,-1,6,15])\n",
    "\n",
    "# creating a copy of list beforehand so that the original one isn't affected\n",
    "num_sort = num.copy()\n",
    "num_sort.sort()\n",
    "print(\"Using sort: {}\".format(num_sort))\n",
    "print(\"Original:\",num)\n",
    "\n",
    "print('_'*50+'\\n')\n",
    "print(\"Using sorted: {}\".format(sorted(num, reverse=True)))\n",
    "print(\"Original:\",num)\n",
    "\n",
    "print('_'*50+'\\n')\n",
    "print(\"max: \",max(num))\n",
    "print(\"count: \",num.count(5))\n",
    "\n",
    "print('_'*50+'\\n')\n",
    "num.reverse()\n",
    "print(\"Using reverse: {}\".format(num))"
   ]
  },
  {
   "cell_type": "markdown",
   "metadata": {},
   "source": [
    "### List Slices <a name=\"slice\"></a>\n",
    "\n",
    "__List slices__ provides an advanced way of retrieving values from a list. Basic list slicing involves indexing a list with __two colon-separated integers__. These three arguments are _lower limit, upper limit and step_. This returns a new list containing all the values in the old list between the indices specified. By default, lower limit is at index 0, upper limit is at the last value and step is +1. \n",
    "\n",
    "You can also take a step backwards. When __negative values__ are used for the first and second values in a slice, they __count from the end of list__.\n",
    "\n",
    "The indexing of the iterable item starts from 0 if we take it from left and -1 if we take it from the right.\n",
    "\n",
    "__NOTE__: Slicing can also be done on __tuple__."
   ]
  },
  {
   "cell_type": "code",
   "execution_count": 8,
   "metadata": {
    "ExecuteTime": {
     "end_time": "2020-05-24T14:53:27.705980Z",
     "start_time": "2020-05-24T14:53:27.697110Z"
    }
   },
   "outputs": [
    {
     "name": "stdout",
     "output_type": "stream",
     "text": [
      "[0, 1, 4, 9, 16, 25, 36, 49, 64, 81]\n",
      "[0, 4, 16, 36, 64]\n",
      "[4, 16, 36]\n"
     ]
    }
   ],
   "source": [
    "squares = [0, 1, 4, 9, 16, 25, 36, 49, 64, 81]\n",
    "\n",
    "print(squares[:])\n",
    "print(squares[::2])\n",
    "print(squares[2:8:2])"
   ]
  },
  {
   "cell_type": "code",
   "execution_count": 9,
   "metadata": {
    "ExecuteTime": {
     "end_time": "2020-05-24T14:53:28.769214Z",
     "start_time": "2020-05-24T14:53:28.762490Z"
    }
   },
   "outputs": [
    {
     "name": "stdout",
     "output_type": "stream",
     "text": [
      "[36, 49, 64, 81]\n",
      "[16, 25, 36, 49, 64, 81]\n",
      "[1, 4, 9, 16, 25, 36, 49]\n"
     ]
    }
   ],
   "source": [
    "print(squares[6:])\n",
    "print(squares[4:14])\n",
    "print(squares[1:-2])"
   ]
  },
  {
   "cell_type": "code",
   "execution_count": 10,
   "metadata": {
    "ExecuteTime": {
     "end_time": "2020-05-24T14:53:29.418529Z",
     "start_time": "2020-05-24T14:53:29.404050Z"
    }
   },
   "outputs": [
    {
     "name": "stdout",
     "output_type": "stream",
     "text": [
      "[25, 36, 49]\n",
      "[49, 25, 9]\n",
      "[]\n",
      "[81, 64, 49, 36, 25, 16, 9, 4, 1, 0]\n"
     ]
    }
   ],
   "source": [
    "print(squares[-5:-2])\n",
    "print(squares[7:1:-2])\n",
    "print(squares[7:4])\n",
    "print(squares[::-1])"
   ]
  },
  {
   "cell_type": "markdown",
   "metadata": {},
   "source": [
    "### List Comprehension\n",
    "\n",
    "List comprehension is a simplified version of _for_ loop statement to create list. A list comprehension __can also contain an if statement__ to enforce a condition on values in the list.\n",
    "\n",
    "Every list comprehension in Python includes 3 elements:\n",
    "\n",
    "* __`expression`__ is the member itself, a call to a method, or any other valid expression that returns a value.\n",
    "* __`member`__ is the object or value in the list or iterable.\n",
    "* __`iterable`__ is a list, set, sequence, generator, or any other object that can return its elements one at a time.\n",
    "\n",
    "Another optional element is `if-else` conditional statement.\n",
    "\n",
    "There are 2 formats of list comprehension:\n",
    "\n",
    "This one is followed when you want the __modified/filtered__ `member` of the `iterable`.\n",
    "\n",
    "> lst_comprhnsn = [__`expression`__ for __`member`__ in __`iterable`__  __`if`__ statement(optional)]\n",
    "\n",
    "This one is followed when you want to __change/replace a `member` value apart from modification/filtering__ from the `iterable`.\n",
    "\n",
    "> lst_comprhnsn = [__`expression`__ __`if-else`__ statement(optional) for __`member`__ in __`iterable`__]"
   ]
  },
  {
   "cell_type": "code",
   "execution_count": 11,
   "metadata": {
    "ExecuteTime": {
     "end_time": "2020-05-24T14:53:31.416483Z",
     "start_time": "2020-05-24T14:53:31.404728Z"
    }
   },
   "outputs": [
    {
     "name": "stdout",
     "output_type": "stream",
     "text": [
      "[36, 64]\n",
      "(36, 64)\n",
      "__________________________________________________\n",
      "\n",
      "[0, 0, 4, 0, 16, 0, 36, 0, 64, 0]\n",
      "(0, 0, 4, 0, 16, 0, 36, 0, 64, 0)\n"
     ]
    }
   ],
   "source": [
    "# format 1\n",
    "\n",
    "evens=[i**2 for i in range(10) if i % 2 == 0 and i > 5]\n",
    "print(evens)\n",
    "print(tuple(evens))\n",
    "\n",
    "print('_'*50+'\\n')\n",
    "\n",
    "# format 2\n",
    "\n",
    "evens=[i**2 if i % 2 == 0 else 0 for i in range(10)]\n",
    "print(evens)\n",
    "print(tuple(evens))"
   ]
  },
  {
   "cell_type": "markdown",
   "metadata": {},
   "source": [
    "One main benefit of using a list comprehension in Python is that it is a single tool that you can use for mapping and filtering, without explicitly remembering and implementing the syntax for `map` and `filter`, which I have anyway discuss in the next notebook. They are more __declarative__ than loops, which means they’re easier to read and understand.\n",
    "\n",
    "However, they’re not the right choice for all circumstances. They might make your code run more slowly or use more memory. For example, avoid using it having __nested loops__ because it becomes difficult to interpret and don't use it when you want to iterate over __extremely large iterable__ because list comprehension works by loading the entire output list into memory, causing `MemoryError`."
   ]
  },
  {
   "cell_type": "markdown",
   "metadata": {},
   "source": [
    "## Tuple\n",
    "\n",
    "Tuple is a __immutable__ Python object created using __Parentheses__ with commas separating the items which can be accessed using it's index number.\n",
    "\n",
    "It is just like list, except __you cannot modify or re-assign a value in the tuple. It will throw `TypeError`__.\n",
    "\n",
    "An empty tuple can also be created in the same way you create empty list."
   ]
  },
  {
   "cell_type": "code",
   "execution_count": 12,
   "metadata": {
    "ExecuteTime": {
     "end_time": "2020-05-24T14:53:37.061163Z",
     "start_time": "2020-05-24T14:53:37.041649Z"
    }
   },
   "outputs": [
    {
     "name": "stdout",
     "output_type": "stream",
     "text": [
      "tuple\n",
      "('is', 'my', 'TUPLE')\n"
     ]
    },
    {
     "ename": "IndexError",
     "evalue": "tuple index out of range",
     "output_type": "error",
     "traceback": [
      "\u001b[0;31m---------------------------------------------------------------------------\u001b[0m",
      "\u001b[0;31mIndexError\u001b[0m                                Traceback (most recent call last)",
      "\u001b[0;32m<ipython-input-12-31228b24a370>\u001b[0m in \u001b[0;36m<module>\u001b[0;34m\u001b[0m\n\u001b[1;32m     10\u001b[0m \u001b[0;34m\u001b[0m\u001b[0m\n\u001b[1;32m     11\u001b[0m \u001b[0malso_my_tuple\u001b[0m \u001b[0;34m=\u001b[0m \u001b[0;34m(\u001b[0m\u001b[0;34m'is'\u001b[0m\u001b[0;34m,\u001b[0m \u001b[0;34m'this'\u001b[0m\u001b[0;34m,\u001b[0m \u001b[0;34m'one'\u001b[0m\u001b[0;34m)\u001b[0m\u001b[0;34m\u001b[0m\u001b[0;34m\u001b[0m\u001b[0m\n\u001b[0;32m---> 12\u001b[0;31m \u001b[0mprint\u001b[0m\u001b[0;34m(\u001b[0m\u001b[0malso_my_tuple\u001b[0m\u001b[0;34m[\u001b[0m\u001b[0;36m3\u001b[0m\u001b[0;34m]\u001b[0m\u001b[0;34m)\u001b[0m\u001b[0;34m\u001b[0m\u001b[0;34m\u001b[0m\u001b[0m\n\u001b[0m",
      "\u001b[0;31mIndexError\u001b[0m: tuple index out of range"
     ]
    }
   ],
   "source": [
    "empty_tuple = ()\n",
    "\n",
    "my_tuple = (\"is\", \"my\", \"tuple\")\n",
    "print(my_tuple[2])\n",
    "\n",
    "my_tuple_l = list(my_tuple)\n",
    "my_tuple_l[2] = \"TUPLE\"\n",
    "my_tuple = tuple(my_tuple_l)\n",
    "print(my_tuple)\n",
    "\n",
    "also_my_tuple = ('is', 'this', 'one')\n",
    "print(also_my_tuple[3])"
   ]
  },
  {
   "cell_type": "markdown",
   "metadata": {},
   "source": [
    "You can modify __only mutable objects__ by accessing them using index value."
   ]
  },
  {
   "cell_type": "code",
   "execution_count": 13,
   "metadata": {
    "ExecuteTime": {
     "end_time": "2020-05-24T14:53:40.078612Z",
     "start_time": "2020-05-24T14:53:40.058841Z"
    }
   },
   "outputs": [
    {
     "name": "stdout",
     "output_type": "stream",
     "text": [
      "(1, 2, 3, [4, 5, 6], 'python', 3)\n"
     ]
    },
    {
     "ename": "AttributeError",
     "evalue": "'tuple' object has no attribute 'append'",
     "output_type": "error",
     "traceback": [
      "\u001b[0;31m---------------------------------------------------------------------------\u001b[0m",
      "\u001b[0;31mAttributeError\u001b[0m                            Traceback (most recent call last)",
      "\u001b[0;32m<ipython-input-13-a6275779bf13>\u001b[0m in \u001b[0;36m<module>\u001b[0;34m\u001b[0m\n\u001b[1;32m      3\u001b[0m \u001b[0mprint\u001b[0m\u001b[0;34m(\u001b[0m\u001b[0mgood_tuple\u001b[0m\u001b[0;34m)\u001b[0m\u001b[0;34m\u001b[0m\u001b[0;34m\u001b[0m\u001b[0m\n\u001b[1;32m      4\u001b[0m \u001b[0;34m\u001b[0m\u001b[0m\n\u001b[0;32m----> 5\u001b[0;31m \u001b[0mgood_tuple\u001b[0m\u001b[0;34m.\u001b[0m\u001b[0mappend\u001b[0m\u001b[0;34m(\u001b[0m\u001b[0;36m7\u001b[0m\u001b[0;34m)\u001b[0m\u001b[0;34m\u001b[0m\u001b[0;34m\u001b[0m\u001b[0m\n\u001b[0m\u001b[1;32m      6\u001b[0m \u001b[0mprint\u001b[0m\u001b[0;34m(\u001b[0m\u001b[0mgood_tuple\u001b[0m\u001b[0;34m)\u001b[0m\u001b[0;34m\u001b[0m\u001b[0;34m\u001b[0m\u001b[0m\n",
      "\u001b[0;31mAttributeError\u001b[0m: 'tuple' object has no attribute 'append'"
     ]
    }
   ],
   "source": [
    "good_tuple = (1,2,3,[4,5],\"python\",3)\n",
    "good_tuple[3].append(6)\n",
    "print(good_tuple)\n",
    "\n",
    "good_tuple.append(7)\n",
    "print(good_tuple)"
   ]
  },
  {
   "cell_type": "markdown",
   "metadata": {},
   "source": [
    "## Dictionaries\n",
    "\n",
    "Dictionaries are data structures used __to map keys to values__. Just like list, they are __mutable__ and made using __curly brackets__. \n",
    "\n",
    "Dictionaries can be indexed in the same way as lists, __using square brackets containing keys__. Trying to index a key that isn't a part of the dictionary returns a __KeyError__.\n",
    "\n",
    "__NOTE__: Only immutable objects can be used as keys to dictionaries."
   ]
  },
  {
   "cell_type": "code",
   "execution_count": 14,
   "metadata": {
    "ExecuteTime": {
     "end_time": "2020-05-24T14:53:43.251514Z",
     "start_time": "2020-05-24T14:53:43.219501Z"
    }
   },
   "outputs": [
    {
     "name": "stdout",
     "output_type": "stream",
     "text": [
      "Why so serious?\n",
      "[1, 2, 3]\n",
      "{(1, 2, 3): [1, 2, 3], ('a', 'b', 'c'): ['a', 'b', 'c'], '4': 'd'}\n"
     ]
    },
    {
     "ename": "KeyError",
     "evalue": "0",
     "output_type": "error",
     "traceback": [
      "\u001b[0;31m---------------------------------------------------------------------------\u001b[0m",
      "\u001b[0;31mKeyError\u001b[0m                                  Traceback (most recent call last)",
      "\u001b[0;32m<ipython-input-14-1ed919f1b80b>\u001b[0m in \u001b[0;36m<module>\u001b[0;34m\u001b[0m\n\u001b[1;32m     11\u001b[0m \u001b[0mprint\u001b[0m\u001b[0;34m(\u001b[0m\u001b[0mmy_dict_again\u001b[0m\u001b[0;34m)\u001b[0m\u001b[0;34m\u001b[0m\u001b[0;34m\u001b[0m\u001b[0m\n\u001b[1;32m     12\u001b[0m \u001b[0;34m\u001b[0m\u001b[0m\n\u001b[0;32m---> 13\u001b[0;31m \u001b[0mprint\u001b[0m\u001b[0;34m(\u001b[0m\u001b[0mempty_dict\u001b[0m\u001b[0;34m[\u001b[0m\u001b[0;36m0\u001b[0m\u001b[0;34m]\u001b[0m\u001b[0;34m)\u001b[0m\u001b[0;34m\u001b[0m\u001b[0;34m\u001b[0m\u001b[0m\n\u001b[0m",
      "\u001b[0;31mKeyError\u001b[0m: 0"
     ]
    }
   ],
   "source": [
    "empty_dict = {}\n",
    "\n",
    "my_dict = {\"Joker\":'Why so serious?', \"Bane\": [1,2,3], \"Scarecrow\": 0.05}\n",
    "print(my_dict[\"Joker\"])\n",
    "\n",
    "my_dict_again = {(1,2,3):[1,2,3], ('a','b','c'):['a','b','c']}\n",
    "print(my_dict_again[(1,2,3)])\n",
    "\n",
    "# adding a new key-value pair\n",
    "my_dict_again['4'] = 'd'\n",
    "print(my_dict_again)\n",
    "\n",
    "print(empty_dict[0])"
   ]
  },
  {
   "cell_type": "code",
   "execution_count": 15,
   "metadata": {
    "ExecuteTime": {
     "end_time": "2020-05-24T14:53:45.332457Z",
     "start_time": "2020-05-24T14:53:45.306421Z"
    }
   },
   "outputs": [
    {
     "ename": "TypeError",
     "evalue": "unhashable type: 'list'",
     "output_type": "error",
     "traceback": [
      "\u001b[0;31m---------------------------------------------------------------------------\u001b[0m",
      "\u001b[0;31mTypeError\u001b[0m                                 Traceback (most recent call last)",
      "\u001b[0;32m<ipython-input-15-859c69ec502a>\u001b[0m in \u001b[0;36m<module>\u001b[0;34m\u001b[0m\n\u001b[0;32m----> 1\u001b[0;31m \u001b[0mmy_dict_error\u001b[0m \u001b[0;34m=\u001b[0m \u001b[0;34m{\u001b[0m\u001b[0;34m[\u001b[0m\u001b[0;36m1\u001b[0m\u001b[0;34m,\u001b[0m\u001b[0;36m2\u001b[0m\u001b[0;34m,\u001b[0m\u001b[0;36m3\u001b[0m\u001b[0;34m]\u001b[0m\u001b[0;34m:\u001b[0m\u001b[0;34m'a'\u001b[0m\u001b[0;34m,\u001b[0m\u001b[0;34m}\u001b[0m\u001b[0;34m\u001b[0m\u001b[0;34m\u001b[0m\u001b[0m\n\u001b[0m",
      "\u001b[0;31mTypeError\u001b[0m: unhashable type: 'list'"
     ]
    }
   ],
   "source": [
    "my_dict_error = {[1,2,3]:'a',}"
   ]
  },
  {
   "cell_type": "markdown",
   "metadata": {},
   "source": [
    "**What does this error mean?**\n",
    "\n",
    "An object is __hashable__ if it has a hash value which never changes during its lifetime (it needs hash() method). List is unhashable because it's content can change over its lifetime.\n",
    "\n",
    "__NOTE__: Don't know about Hash function? Think about it as the fingerprint of a file in an encrypted format. For details, search in Google."
   ]
  },
  {
   "cell_type": "code",
   "execution_count": 16,
   "metadata": {
    "ExecuteTime": {
     "end_time": "2020-05-24T14:53:46.947319Z",
     "start_time": "2020-05-24T14:53:46.938296Z"
    }
   },
   "outputs": [
    {
     "name": "stdout",
     "output_type": "stream",
     "text": [
      "{0: 'infinity', 1: {'a': [1, 2]}, 'b': {2: (3, 4)}, 'c': [-1]}\n",
      "[1, 2]\n",
      "True\n",
      "True\n",
      "True\n",
      "{0: 'infinity', 1: 'zero', 'b': {2: (3, 4)}, 'c': [-1]}\n"
     ]
    }
   ],
   "source": [
    "# How about a dictionary within a dictionary?\n",
    "my_dict_yet_again = {0:\"infinity\", 1:{'a':[1,2]}, 'b':{2: (3,4)}, 'c':[-1]}\n",
    "print(my_dict_yet_again)\n",
    "print(my_dict_yet_again[1]['a'])\n",
    "\n",
    "# Some dictionary methods\n",
    "print(1 in my_dict_yet_again.keys()) # check if a key is available in the dictionary\n",
    "print({'a':[1,2]} in my_dict_yet_again.values()) # check if the value is available in the dictionary\n",
    "print(('c',[-1]) in my_dict_yet_again.items())  # check if the key-value pair is available\n",
    "\n",
    "my_dict_yet_again[True] = \"zero\"\n",
    "print(my_dict_yet_again)"
   ]
  },
  {
   "cell_type": "markdown",
   "metadata": {},
   "source": [
    "A useful dictionary method is __get__. It does same thing as indexing, but if the key is not found in the dictionary, it returns __None__ instead of throwing any error."
   ]
  },
  {
   "cell_type": "code",
   "execution_count": 17,
   "metadata": {
    "ExecuteTime": {
     "end_time": "2020-05-24T14:53:48.957795Z",
     "start_time": "2020-05-24T14:53:48.951779Z"
    }
   },
   "outputs": [
    {
     "name": "stdout",
     "output_type": "stream",
     "text": [
      "{0: 'infinity', 1: 'False', 'b': {2: (3, 4)}, 'c': [-1]}\n",
      "False\n",
      "None\n",
      "True string is not available as key\n"
     ]
    }
   ],
   "source": [
    "# obtaining values using get method\n",
    "my_dict_yet_again[True]='False'\n",
    "print(my_dict_yet_again)\n",
    "\n",
    "print(my_dict_yet_again.get(1)) # get method\n",
    "print(my_dict_yet_again.get(2))\n",
    "print(my_dict_yet_again.get(\"True\",\"True string is not available as key\"))"
   ]
  },
  {
   "cell_type": "markdown",
   "metadata": {},
   "source": [
    "In the last example, as you can see that even if a key is not available, if you use __`get`__, you can pass a default value for that key as second argument in order to avoid any `None` value output or most importantly, `KeyError`."
   ]
  },
  {
   "cell_type": "code",
   "execution_count": 18,
   "metadata": {
    "ExecuteTime": {
     "end_time": "2020-05-24T14:53:51.540738Z",
     "start_time": "2020-05-24T14:53:51.535814Z"
    }
   },
   "outputs": [
    {
     "name": "stdout",
     "output_type": "stream",
     "text": [
      "infinity_war\n"
     ]
    }
   ],
   "source": [
    "print(my_dict_yet_again.get(0)+my_dict_yet_again.get(-1,'_war'))"
   ]
  },
  {
   "cell_type": "markdown",
   "metadata": {
    "ExecuteTime": {
     "end_time": "2019-02-17T18:49:07.515730Z",
     "start_time": "2019-02-17T18:49:07.512660Z"
    }
   },
   "source": [
    "### Create dictionary from two lists!\n",
    "\n",
    "We can use __`zip`__ to generate dictionaries where the keys and values can be obtained from lists at runtime."
   ]
  },
  {
   "cell_type": "code",
   "execution_count": 19,
   "metadata": {
    "ExecuteTime": {
     "end_time": "2020-05-24T14:53:53.729692Z",
     "start_time": "2020-05-24T14:53:53.721039Z"
    }
   },
   "outputs": [
    {
     "name": "stdout",
     "output_type": "stream",
     "text": [
      "[('a', 1), ('b', 2), ('c', 3)]\n",
      "{'a': 1, 'b': 2, 'c': 3}\n",
      "<zip object at 0x7f7e77aff348>\n"
     ]
    }
   ],
   "source": [
    "keys = ['a', 'b', 'c', 'd']\n",
    "values = [1, 2, 3]\n",
    "\n",
    "print(list(zip(keys,values)))\n",
    "\n",
    "print(dict(zip(keys,values)))\n",
    "\n",
    "print(zip(keys,values))"
   ]
  },
  {
   "cell_type": "markdown",
   "metadata": {},
   "source": [
    "But what if you don't want unique keys and instead pair up with repeated keys, then check the following example."
   ]
  },
  {
   "cell_type": "code",
   "execution_count": 20,
   "metadata": {
    "ExecuteTime": {
     "end_time": "2020-05-24T14:53:55.218508Z",
     "start_time": "2020-05-24T14:53:55.211271Z"
    },
    "scrolled": true
   },
   "outputs": [
    {
     "name": "stdout",
     "output_type": "stream",
     "text": [
      "[('a', 3), ('b', 2), ('a', 10)]\n",
      "{'a': 10, 'b': 2}\n"
     ]
    }
   ],
   "source": [
    "keys = ['a', 'b', 'a']\n",
    "values = [3, 2, 10, 5]\n",
    "\n",
    "print(list(zip(keys,values)))\n",
    "\n",
    "print(dict(zip(keys,values)))"
   ]
  },
  {
   "cell_type": "markdown",
   "metadata": {},
   "source": [
    "By making the __`zip`__ type as `list`, we can retain the repeated keys, but `dict` can't."
   ]
  },
  {
   "cell_type": "markdown",
   "metadata": {},
   "source": [
    "### Dictionary Comprehension\n",
    "\n",
    "The idea of comprehension is not just unique to lists in Python. Dictionaries can also do comprehension. With this, one can easily create dictionaries.\n",
    "\n",
    "Instead of using `[]`, we use `{}`, and instead of a single value member, we will iterate over the key-value pair. The format of list comprehension is as follows:\n",
    "\n",
    "> dict_comprhnsn = {__`expression`__ for __`key_member`,`value_member`__ in __`iterable`__  __`if`__ statement(optional)}\n",
    "\n",
    "> dict_comprhnsn = {__`expression`__ __`if-else`__ statement(optional) for __`key_member`,`value_member`__ in __`iterable`__}"
   ]
  },
  {
   "cell_type": "code",
   "execution_count": 21,
   "metadata": {
    "ExecuteTime": {
     "end_time": "2020-05-24T14:53:57.039495Z",
     "start_time": "2020-05-24T14:53:57.013980Z"
    }
   },
   "outputs": [
    {
     "name": "stdout",
     "output_type": "stream",
     "text": [
      "{'a': 1, 'b': 2, 'c': 3}\n",
      "{'0': 0, '3': 9, '6': 18, '9': 27}\n",
      "\n",
      "Before removing!\n",
      "{'kiwi': 'Kiwi', 'apple': 'Apple', 'mango': 'Mango', 'banana': 'Banana', 'cherry': 'Cherry'}\n",
      "==================================================\n",
      "After removing!\n",
      "{'kiwi': 'Kiwi', 'apple': 'Apple', 'mango': 'Mango', 'banana': 'Banana'}\n"
     ]
    }
   ],
   "source": [
    "# dictionary from two different list using comprehension\n",
    "keys = ['a', 'b', 'c']\n",
    "values = [1, 2, 3]\n",
    "\n",
    "my_dict_1 = {k:v for (k,v) in zip(keys, values)}\n",
    "print(my_dict_1)\n",
    "\n",
    "# dictionary from same list using comprehension\n",
    "my_dict_2 = {str(x): x*3 for x in range(10) if x%3==0}\n",
    "print(my_dict_2)\n",
    "\n",
    "# delete selected key-value pair\n",
    "fruits = ['kiwi', 'apple', 'mango', 'banana', 'cherry']\n",
    "my_dict_3 = {f:f.capitalize() for f in fruits}\n",
    "print(\"\\nBefore removing!\")\n",
    "print(my_dict_3)\n",
    "\n",
    "print(\"=\"*50)\n",
    "\n",
    "del my_dict_3['cherry']\n",
    "print(\"After removing!\")\n",
    "print(my_dict_3)"
   ]
  },
  {
   "cell_type": "markdown",
   "metadata": {},
   "source": [
    "### Ordered dictionary\n",
    "\n",
    "Standard Python dictionaries don't keep track of the order in which keys and values are added; they only _preserve the association_ between each key and its value. To preserve the order in which keys and values are added, use an __`OrderedDict`__."
   ]
  },
  {
   "cell_type": "code",
   "execution_count": 22,
   "metadata": {
    "ExecuteTime": {
     "end_time": "2020-05-24T14:53:58.850671Z",
     "start_time": "2020-05-24T14:53:58.841940Z"
    }
   },
   "outputs": [
    {
     "name": "stdout",
     "output_type": "stream",
     "text": [
      "greninja:\n",
      "- water shuriken\n",
      "- aerial ace\n",
      "pikachu:\n",
      "- thunder shock\n",
      "- volt tackle\n",
      "sceptile:\n",
      "- frenzy plant\n",
      "- leaf storm\n",
      "charizard:\n",
      "- blast burn\n",
      "- fire blast\n"
     ]
    }
   ],
   "source": [
    "from collections import OrderedDict\n",
    "\n",
    "pokemons = OrderedDict() # initialize the dictionary like this\n",
    "\n",
    "pokemons['greninja'] = ['water shuriken', 'aerial ace']\n",
    "pokemons['pikachu'] = ['thunder shock', 'volt tackle']\n",
    "pokemons['sceptile'] = ['frenzy plant', 'leaf storm']\n",
    "pokemons['charizard'] = ['blast burn', 'fire blast']\n",
    "\n",
    "for name, moves in pokemons.items():\n",
    "    print(name + \":\")\n",
    "    for move in moves:\n",
    "        print(\"- \" + move)"
   ]
  },
  {
   "cell_type": "markdown",
   "metadata": {},
   "source": [
    "## Set and Frozenset\n",
    "\n",
    "Sets are Python object similar to lists or dictionaries. They are created using __curly braces__ or the __set function__. They are unordered, which means that they __can't be indexed__. They __cannot contain duplicate elements__. Due to the way they're stored, it's __faster to check whether an item is part of a set__, rather than part of a list.\n",
    "\n",
    "Instead of using __append__ to add an item to a set, we use __add__. The method __remove__ removes a specific element from a set but __pop__ removes an arbitrary element."
   ]
  },
  {
   "cell_type": "code",
   "execution_count": 23,
   "metadata": {
    "ExecuteTime": {
     "end_time": "2020-05-24T14:54:00.114667Z",
     "start_time": "2020-05-24T14:54:00.094376Z"
    }
   },
   "outputs": [
    {
     "name": "stdout",
     "output_type": "stream",
     "text": [
      "{'3.6', 2.7, 3.5, '3.7', 3.8}\n",
      "frozenset({'Python', '2.7'})\n",
      "{3.5, '3.7', 3.8}\n",
      "{1, 2, 3, 4, 5, 6, 7, 8, 9}\n",
      "{4, 5, 6}\n",
      "{1, 2, 3}\n",
      "{1, 2, 3, 7, 8, 9}\n"
     ]
    }
   ],
   "source": [
    "my_set = set((2.7,3.5,\"3.6\",\"3.7\"))\n",
    "also_my_set = {2.7, 3.6}\n",
    "my_frozenset = frozenset((\"Python\",\"2.7\"))\n",
    "\n",
    "my_set.add(3.8)\n",
    "print(my_set)\n",
    "print(my_frozenset)\n",
    "\n",
    "my_set.remove(2.7)\n",
    "my_set.pop()\n",
    "print(my_set)\n",
    "\n",
    "# some additional operations\n",
    "first = {1, 2, 3, 4, 5, 6}\n",
    "second = {4, 5, 6, 7, 8, 9}\n",
    "\n",
    "print(first | second)\n",
    "print(first & second)\n",
    "print(first - second)\n",
    "print(first ^ second)"
   ]
  },
  {
   "cell_type": "markdown",
   "metadata": {},
   "source": [
    "Even is set, we can perform set comprehension. It will be same as list comprehension, except for `[]` - it will be `{}`."
   ]
  },
  {
   "cell_type": "code",
   "execution_count": 24,
   "metadata": {
    "ExecuteTime": {
     "end_time": "2020-05-24T14:54:03.183651Z",
     "start_time": "2020-05-24T14:54:03.172850Z"
    }
   },
   "outputs": [
    {
     "name": "stdout",
     "output_type": "stream",
     "text": [
      "{'o', 'e', 'a', 'i', 'u'}\n"
     ]
    }
   ],
   "source": [
    "quote = \"nothing more, nothing less, than a beautiful view\"\n",
    "unique_vowels = {i for i in quote if i in 'aeiou'}\n",
    "print(unique_vowels)"
   ]
  },
  {
   "cell_type": "markdown",
   "metadata": {},
   "source": [
    "**SUMMARY**: So, what are the operations that can be perfomed on mutable and immutable objects in Python?\n",
    "\n",
    "##### Both mutable and immutable\n",
    "\n",
    "| Operation | Result |\n",
    "|:---------:|:------:|\n",
    "| len(s) | cardinality of set s |\n",
    "| x in s | test x for membership in s |\n",
    "| x not in s | test x for non-membership in s |\n",
    "| s.issubset(t)\t| test whether every element in s is in t |\n",
    "| s.issuperset(t) | test whether every element in t is in s |\n",
    "| s.union(t) | new set with elements from both s and t |\n",
    "| s.intersection(t) | new set with elements common to s and t |\n",
    "| s.difference(t) | new set with elements in s but not in t |\n",
    "| s.symmetric_difference(t)\t| new set with elements in either s or t but not both |\n",
    "| s.copy() | new set with a shallow copy of s |\n",
    "\n",
    "##### Only mutable\n",
    "\n",
    "| Operation | Result |\n",
    "|:---------:|:------:|\n",
    "| s.update(t) | update set s, adding elements from t\n",
    "| s.intersection_update(t)\t| update set s, keeping only elements found in both s and t\n",
    "| s.difference_update(t) | update set s, removing elements found in t\n",
    "| s.symmetric_difference_update(t) | update set s, keeping only elements found in either s or t but not in both\n",
    "| s.add(x) | add element x to set s\n",
    "| s.append(x) | adding element at the end\n",
    "| s.remove(x) | remove x from set s; raises KeyError if not present\n",
    "| s.discard(x) | removes x from set s if present\n",
    "| s.pop() | remove and return an arbitrary element from s; raises KeyError if empty\n",
    "| s.clear() | remove all elements from set s\n",
    "\n",
    "Also, when to use these data structures?\n",
    "\n",
    "* Use __dictionary__ when you need\n",
    "    - a logical association between a key:value pair.\n",
    "    - fast lookup for your data, based on a custom key.\n",
    "* Use __lists__ if you have a collection of data that does not need random access. Try to choose lists when you need a simple, iterable collection that is modified frequently.\n",
    "* Use a __set__ if you need uniqueness for the elements.\n",
    "* Use __tuples__ when your data cannot change.\n",
    "\n",
    "But - **WHICH DATA TYPE IS FASTEST IN PYTHON?**\n",
    "\n",
    "Are we even asking the right question? And, the answer is ...\n",
    "\n",
    "![no_no](./Photos/oh-god-no.gif)\n",
    "\n",
    "The speed of any code execution depends on the __type of operation__ performed, rather the type of data. This process of amount of resource allocation (in terms of memory and time) is called __Computational Complexity__. Check the [Appendix](#appendix) to know more.\n",
    "<a name=\"back\"></a>"
   ]
  },
  {
   "cell_type": "markdown",
   "metadata": {},
   "source": [
    "# Conditional statements, loops <a name=\"loops\"></a>\n",
    "\n",
    "## if, elif, else\n",
    "\n",
    "Python uses __if__ statements to run code if a certain condition holds _True_, otherwise they aren't.\n",
    "\n",
    "__NOTE__: Python uses __indentation__ (white space at the beginning of a line) to delimit blocks of code. Other languages, such as C, use curly braces to accomplish this, but in Python, indentation is mandatory; programs won't work without it.\n",
    "\n",
    "__To perform more complex checks__, _if_ statements can be __nested__, one inside the other. This means that the inner _if_ statement is the statement part of the outer one.\n",
    "\n",
    "An __else__ statement follows an _if_ statement, and contains code that is called when the _if_ statement evaluates to _False_.\n",
    "\n",
    "The __elif__ (short for else if) statement is a shortcut to use when __chaining if and else statements__. A series of _if elif_ statements can have a final else block, which is called if none of the _if_ or _elif_ expressions is _True_."
   ]
  },
  {
   "cell_type": "code",
   "execution_count": 25,
   "metadata": {
    "ExecuteTime": {
     "end_time": "2020-05-24T14:54:14.613401Z",
     "start_time": "2020-05-24T14:54:08.083018Z"
    }
   },
   "outputs": [
    {
     "name": "stdout",
     "output_type": "stream",
     "text": [
      "Enter a number from 0 to 9: 5\n",
      "`If you knew the magnificence of the three, six and nine, you would have a key to the universe.` ~ Tesla\n"
     ]
    }
   ],
   "source": [
    "num = int(input(\"Enter a number from 0 to 9: \"))\n",
    "\n",
    "if num == 3:\n",
    "    print(\"You got 3\")\n",
    "elif num == 6:\n",
    "    print(\"Number is 6\")\n",
    "elif num == 9:\n",
    "    print(\"Looks like 9\")\n",
    "else:\n",
    "    print(\"`If you knew the magnificence of the three, six and nine, you would have a key to the universe.` ~ Tesla\")"
   ]
  },
  {
   "cell_type": "markdown",
   "metadata": {},
   "source": [
    "## for\n",
    "\n",
    "The __for__ loop is commonly used to repeat some code a certain number of times on an object known as __iterator__. This is done by combining for loops with __range__ objects.\n",
    "\n",
    "The function range by default starts counting from 0 and goes up to the n-th value i.e. till (n-1). Its first parameter is the starting point, second one is the ending point (n-th value), and the optional third is the step value."
   ]
  },
  {
   "cell_type": "code",
   "execution_count": 26,
   "metadata": {
    "ExecuteTime": {
     "end_time": "2020-05-24T14:54:16.724426Z",
     "start_time": "2020-05-24T14:54:16.706891Z"
    }
   },
   "outputs": [
    {
     "name": "stdout",
     "output_type": "stream",
     "text": [
      "hello!\n",
      "hello!\n",
      "hello!\n",
      "world\n",
      "world\n",
      "==================================================\n",
      "2\n",
      "5\n",
      "8\n"
     ]
    }
   ],
   "source": [
    "for i in range(5):\n",
    "    if i < 3:\n",
    "        print(\"hello!\")\n",
    "    else:\n",
    "        print(\"world\")\n",
    "        \n",
    "print(\"=\"*50)\n",
    "        \n",
    "for i in range(2,11,3):\n",
    "    print(i)"
   ]
  },
  {
   "cell_type": "code",
   "execution_count": 27,
   "metadata": {
    "ExecuteTime": {
     "end_time": "2020-05-24T14:54:18.393185Z",
     "start_time": "2020-05-24T14:54:18.377957Z"
    }
   },
   "outputs": [
    {
     "name": "stdout",
     "output_type": "stream",
     "text": [
      "1\n",
      "2\n",
      "3\n",
      "Broken: 4\n",
      "Broken: 4.5\n",
      "Broken: 5\n",
      "6\n"
     ]
    }
   ],
   "source": [
    "# for loop through list\n",
    "lst = [1,2,3,(4,4.5,5),6]\n",
    "\n",
    "for i in lst:\n",
    "    if type(i) == int:\n",
    "        print(i)\n",
    "    else:\n",
    "        for j in i:\n",
    "            print(f\"Broken: {j}\")"
   ]
  },
  {
   "cell_type": "code",
   "execution_count": 28,
   "metadata": {
    "ExecuteTime": {
     "end_time": "2020-05-24T14:54:19.554666Z",
     "start_time": "2020-05-24T14:54:19.541552Z"
    }
   },
   "outputs": [
    {
     "name": "stdout",
     "output_type": "stream",
     "text": [
      "{'a': 1, 'b': 2, 'c': 3}\n"
     ]
    }
   ],
   "source": [
    "# another way of creating dictionary\n",
    "\n",
    "keys = ['a', 'b', 'c']\n",
    "values = [1, 2, 3]\n",
    "\n",
    "my_new_dict = {}\n",
    "for (k,v) in zip(keys, values):\n",
    "    my_new_dict[k] = v\n",
    "    \n",
    "print(my_new_dict)"
   ]
  },
  {
   "cell_type": "markdown",
   "metadata": {},
   "source": [
    "What is the difference between __range(x)__ and __list(range(x))__?"
   ]
  },
  {
   "cell_type": "code",
   "execution_count": 29,
   "metadata": {
    "ExecuteTime": {
     "end_time": "2020-05-24T14:54:21.767829Z",
     "start_time": "2020-05-24T14:54:21.763416Z"
    }
   },
   "outputs": [
    {
     "name": "stdout",
     "output_type": "stream",
     "text": [
      "[0, 1, 2, 3, 4]\n",
      "range(0, 5)\n"
     ]
    }
   ],
   "source": [
    "print(list(range(5)))\n",
    "print((range(5)))"
   ]
  },
  {
   "cell_type": "markdown",
   "metadata": {},
   "source": [
    "When you execute `?range`, it will say that range returns an object that produces a sequence of integers from start (inclusive) to stop (exclusive) by step __without assigning indexes to the values__. Rather, it generates only one number at a time, relying on a __for__ loop to request for the next item in the range to be seen. However, __list(range()) does assign indices__ and hence allows you to see the full sequence of the numbers immediately, without the assistance of a _for_ loop.\n",
    "\n",
    "## while\n",
    "\n",
    "An __if__ statement is __run once__ if its condition evaluates to _True_. A __while__ statement is similar, except that it can be __run more than once__. The statements inside it are repeatedly executed, as long as the condition holds _True_. Once it evaluates to False, the next section of code is executed."
   ]
  },
  {
   "cell_type": "code",
   "execution_count": 30,
   "metadata": {
    "ExecuteTime": {
     "end_time": "2020-05-24T14:54:23.512009Z",
     "start_time": "2020-05-24T14:54:23.499034Z"
    }
   },
   "outputs": [
    {
     "name": "stdout",
     "output_type": "stream",
     "text": [
      "1\n",
      "2\n",
      "3\n",
      "4\n",
      "5\n"
     ]
    }
   ],
   "source": [
    "current_value = 1\n",
    "while current_value <= 5:\n",
    "    print(current_value)\n",
    "    current_value += 1"
   ]
  },
  {
   "cell_type": "markdown",
   "metadata": {},
   "source": [
    "The __infinite loop__ is a special kind of while loop where the condition is always True and never stops iterating.\n",
    "\n",
    "To end a while loop prematurely, the __break__ statement can be used inside the loop.\n",
    "\n",
    "When a continue statement is encountered, the code flow jumps back to the top of the loop, rather than stopping it. Basically it __stops the current iteration__ and continues with the next one."
   ]
  },
  {
   "cell_type": "code",
   "execution_count": 31,
   "metadata": {
    "ExecuteTime": {
     "end_time": "2020-05-24T14:54:41.285691Z",
     "start_time": "2020-05-24T14:54:29.257794Z"
    },
    "scrolled": false
   },
   "outputs": [
    {
     "name": "stdout",
     "output_type": "stream",
     "text": [
      "You're about to attack Mewtwo! CP left: 30\n",
      "\n",
      "Umbreon used Dark Pulse!\n",
      "Mewtwo CP left: 27\n",
      "\n",
      "Umbreon used Dark Pulse!\n",
      "Mewtwo CP left: 24\n",
      "\n",
      "Umbreon used Dark Pulse!\n",
      "Mewtwo CP left: 21\n",
      "\n",
      "Umbreon used Dark Pulse!\n",
      "Mewtwo CP left: 18\n",
      "\n",
      "Umbreon used Dark Pulse!\n",
      "\u001b[32mHe's halfway dead!\n",
      "\u001b[0m\n",
      "Umbreon used Dark Pulse!\n",
      "Mewtwo CP left: 12\n",
      "\n",
      "Umbreon used Dark Pulse!\n",
      "\u001b[33mTake him down!\n",
      "\u001b[0m\n",
      "Umbreon used Dark Pulse!\n",
      "Mewtwo CP left: 6\n",
      "\n",
      "Umbreon used Dark Pulse!\n",
      "\u001b[31mNow's your chance!\n",
      "\u001b[0m\n",
      "Umbreon used Dark Pulse!\n",
      "Dead!\n",
      "\n",
      "\u001b[1m\u001b[32mCongrats! Your Umbreon won.\u001b[0m\n"
     ]
    }
   ],
   "source": [
    "import time\n",
    "from termcolor import colored\n",
    "\n",
    "mewtwo_cp = 30\n",
    "umbreon_dark_pulse = 3\n",
    "fight = True\n",
    "\n",
    "print(\"You're about to attack Mewtwo! CP left: {}\\n\".format(mewtwo_cp))\n",
    "\n",
    "while fight:\n",
    "    print(\"Umbreon used Dark Pulse!\")\n",
    "    mewtwo_cp -= umbreon_dark_pulse\n",
    "    \n",
    "    if mewtwo_cp == 15:\n",
    "        print(colored(\"He's halfway dead!\\n\",\"green\")) \n",
    "        continue\n",
    "    elif mewtwo_cp == 9: \n",
    "        print(colored(\"Take him down!\\n\",\"yellow\"))\n",
    "        continue\n",
    "    elif mewtwo_cp == 3:\n",
    "        print(colored(\"Now's your chance!\\n\",\"red\")) \n",
    "        continue\n",
    "    \n",
    "    if mewtwo_cp <= 0:\n",
    "        print(\"Dead!\\n\")\n",
    "        break\n",
    "    \n",
    "    print(\"Mewtwo CP left: {}\\n\".format(mewtwo_cp))\n",
    "    # pauses code execution for 2 seconds for your reference to understand what is happening\n",
    "    time.sleep(2)\n",
    "    \n",
    "print(colored(\"Congrats! Your Umbreon won.\",\"green\",attrs=['bold']))"
   ]
  },
  {
   "cell_type": "markdown",
   "metadata": {},
   "source": [
    "# File I/O\n",
    "\n",
    "Python can be used to __read__ and __write__ the contents of files. Text files are the easiest to manipulate.\n",
    "\n",
    "__open__\n",
    "\n",
    "Before a file can be edited, it must be _opened_, using the __open__ function. The __argument__ of the open function is the _path to the file_. If the file is in the current working directory of the program, you can specify only its name.\n",
    "\n",
    "__mode__\n",
    "\n",
    "There are __mode__ used to open a file by applying a _second argument_ to the open function.\n",
    "* `r` means open in __read__ mode, which is the default.\n",
    "* `w` means __write__ mode, for rewriting the contents of a file.\n",
    "* `a` means __append__ mode, for adding new content to the end of the file.\n",
    "* `b` means __binary__ mode, which is used for non-text files (such as image and sound files).\n",
    "\n",
    "__read__\n",
    "\n",
    "The contents of a file that has been opened in text mode can be read using the __read__ method. To __read only a certain amount of a file, you can provide a number as an argument__ to the read function. This determines the __number of bytes__ that should be read.\n",
    "\n",
    "After all contents in a file have been read, any attempts to read further from that file will return an _empty string_, because you are trying to read __from the end of the file__. \n",
    "\n",
    "To retrieve __each line__ in a file, you can use the __readlines__ method to _return a list in which each element is a line in the file_.\n",
    "\n",
    "__NOTE__: There is a __`readline`__ and a __`readlines`__ method. _`readline()`_ reads one line at a time, _`readlines()`_ reads in the whole file at once and splits it by line (i.e. using ```\\n```)\n",
    "\n",
    "__write__\n",
    "\n",
    "To write to files we use the __write__ method, which writes a string to the file. The \"w\" mode will _create a file, if it does not already exist_. When a file is opened in write mode, the file's __existing content is deleted__. The write method __returns the number of bytes__ written to a file, if successful.\n",
    "\n",
    "__NOTE__: If you need to write anything other than string on a file, it has to be converted to a string first.\n",
    "\n",
    "__close__\n",
    "\n",
    "Once a file has been opened and used, it SHOULD be closed which is done with the __close__ method of the file object."
   ]
  },
  {
   "cell_type": "code",
   "execution_count": 1,
   "metadata": {
    "ExecuteTime": {
     "end_time": "2020-05-24T15:19:08.813948Z",
     "start_time": "2020-05-24T15:19:08.803622Z"
    },
    "scrolled": false
   },
   "outputs": [
    {
     "name": "stdout",
     "output_type": "stream",
     "text": [
      "------- Reading the content -------\n",
      "\n",
      "What is Neural Network?\n",
      "A neural network is a processing unit that is capable to store knowledge and apply it to make predictions. A neural network mimics the brain in a way where the network acquires knowledge from its environment through a learning process. Then, intervention connection strengths known as synaptic weights are used to store the acquired knowledge. In the learning process, the synaptic weights of the network are modified in such a way so as to attain the desired objective.\n",
      "\n",
      "A neural network architecture comprises of 3 types of layers:\n",
      "\n",
      "Input Layer: The first layer in the network which receives input (training observations) and passed to the next hidden layer(s)\n",
      "Hidden Layer: The intermediate processing layer(s) which perform specific tasks on the incoming data and pass on the output generated by them to the next output layer\n",
      "Output Layer: The final layer of the network which generates the desired output\n",
      "Each of these layers are composed of Perceptrons which is analogous to the neuron of the our nervous system.\n",
      "\n",
      "------- Re-reading -------\n",
      "\n",
      "------- Finished! --------\n",
      "\n",
      "------- Closing the file -------\n"
     ]
    }
   ],
   "source": [
    "import platform\n",
    "\n",
    "if platform.system() == 'Windows':\n",
    "    file_1_path = \".\\\\data\\\\def_NN.txt\"\n",
    "    file_2_path = \".\\\\data\\\\joker.txt\"\n",
    "else:\n",
    "    file_1_path = \"./data/def_NN.txt\"\n",
    "    file_2_path = \"./data/joker.txt\"\n",
    "\n",
    "file = open(file_1_path)\n",
    "print(\"------- Reading the content -------\\n\")\n",
    "file_content = file.read()\n",
    "\n",
    "print(file_content)\n",
    "print(\"------- Re-reading -------\")\n",
    "print(file.read())\n",
    "print(\"------- Finished! --------\\n\")\n",
    "print(\"------- Closing the file -------\")\n",
    "file.close()"
   ]
  },
  {
   "cell_type": "code",
   "execution_count": 2,
   "metadata": {
    "ExecuteTime": {
     "end_time": "2020-05-24T15:19:14.144126Z",
     "start_time": "2020-05-24T15:19:14.115958Z"
    }
   },
   "outputs": [
    {
     "name": "stdout",
     "output_type": "stream",
     "text": [
      "------- Reading initial contents ------- \n",
      "\n",
      "Why so serious?\n",
      "------- Finished ------- \n",
      "\n",
      "Amount of text written: 64\n",
      "\n",
      "------- Reading new contents ------- \n",
      "\n",
      "I believe whatever doesn't kill you simply makes you...stranger.\n",
      "\n",
      " ------- Finished -------\n"
     ]
    }
   ],
   "source": [
    "file = open(file_2_path, \"r\")\n",
    "print(\"------- Reading initial contents ------- \\n\")\n",
    "print(file.read())\n",
    "print(\"------- Finished ------- \\n\")\n",
    "file.close()\n",
    "\n",
    "file = open(file_2_path, \"w\")\n",
    "amount_written = file.write(\"I believe whatever doesn't kill you simply makes you...stranger.\")\n",
    "print(\"Amount of text written: {}\\n\".format(amount_written))\n",
    "file.close()\n",
    "\n",
    "file = open(file_2_path, \"r\")\n",
    "print(\"------- Reading new contents ------- \\n\")\n",
    "print(file.read())\n",
    "print(\"\\n ------- Finished -------\")\n",
    "file.close()"
   ]
  },
  {
   "cell_type": "markdown",
   "metadata": {},
   "source": [
    "## Alternative approach of file access\n",
    "An alternative way of doing it is using __with__ statements. This creates a temporary variable, which is only accessible in the indented block of the with statement. The file is __automatically closed__ at the end of the with statement, even if exceptions occur within it."
   ]
  },
  {
   "cell_type": "code",
   "execution_count": 3,
   "metadata": {
    "ExecuteTime": {
     "end_time": "2020-05-24T15:19:16.993599Z",
     "start_time": "2020-05-24T15:19:16.986199Z"
    },
    "scrolled": false
   },
   "outputs": [
    {
     "name": "stdout",
     "output_type": "stream",
     "text": [
      ">>> What is Neural Network?\n",
      "A neural network is a processing unit that is capable to store knowledge and apply it to make predictions\n",
      ">>>  A neural network mimics the brain in a way where the network acquires knowledge from its environment through a learning process\n",
      ">>>  Then, intervention connection strengths known as synaptic weights are used to store the acquired knowledge\n",
      ">>>  In the learning process, the synaptic weights of the network are modified in such a way so as to attain the desired objective\n",
      ">>> \n",
      "\n",
      "A neural network architecture comprises of 3 types of layers:\n",
      "\n",
      "Input Layer: The first layer in the network which receives input (training observations) and passed to the next hidden layer(s)\n",
      "Hidden Layer: The intermediate processing layer(s) which perform specific tasks on the incoming data and pass on the output generated by them to the next output layer\n",
      "Output Layer: The final layer of the network which generates the desired output\n",
      "Each of these layers are composed of Perceptrons which is analogous to the neuron of the our nervous system\n",
      ">>> \n",
      "\n"
     ]
    }
   ],
   "source": [
    "# alternative approach\n",
    "\n",
    "with open(file_1_path) as f:\n",
    "    content = f.read().split(\".\")\n",
    "    \n",
    "for each_part in content:\n",
    "    print(\">>> {}\".format(each_part))"
   ]
  },
  {
   "cell_type": "code",
   "execution_count": 4,
   "metadata": {
    "ExecuteTime": {
     "end_time": "2020-05-24T15:19:18.648283Z",
     "start_time": "2020-05-24T15:19:18.638485Z"
    }
   },
   "outputs": [
    {
     "name": "stdout",
     "output_type": "stream",
     "text": [
      ">>> What is Neural Network?\n",
      "\n",
      ">>> A neural network is a processing unit that is capable to store knowledge and apply it to make predictions. A neural network mimics the brain in a way where the network acquires knowledge from its environment through a learning process. Then, intervention connection strengths known as synaptic weights are used to store the acquired knowledge. In the learning process, the synaptic weights of the network are modified in such a way so as to attain the desired objective.\n",
      "\n",
      ">>> \n",
      "\n",
      ">>> A neural network architecture comprises of 3 types of layers:\n",
      "\n",
      ">>> \n",
      "\n",
      ">>> Input Layer: The first layer in the network which receives input (training observations) and passed to the next hidden layer(s)\n",
      "\n",
      ">>> Hidden Layer: The intermediate processing layer(s) which perform specific tasks on the incoming data and pass on the output generated by them to the next output layer\n",
      "\n",
      ">>> Output Layer: The final layer of the network which generates the desired output\n",
      "\n",
      ">>> Each of these layers are composed of Perceptrons which is analogous to the neuron of the our nervous system.\n",
      "\n"
     ]
    }
   ],
   "source": [
    "# performing readlines using with\n",
    "\n",
    "with open(file_1_path) as f:\n",
    "    content = f.readlines()\n",
    "    \n",
    "for each_part in content:\n",
    "    print(\">>> {}\".format(each_part))"
   ]
  },
  {
   "cell_type": "markdown",
   "metadata": {},
   "source": [
    "# Appendix <a name='appendix'></a>\n",
    "\n",
    "## Complexity Comparison\n",
    "\n",
    "__Computational Complexity__ is a field from computer science which analyzes algorithms based on the _amount of resources_ required for running it. The amount of required resources depends on the input size, so the complexity is generally expressed as `f(n)`, where `n` is the size of the input. There are two types of complexity:\n",
    "* __Space__: The amount of memory space required to run an algorithm\n",
    "* __Time__: The amount of time required to run an algorithm\n",
    "\n",
    "![complexity_chart](./Photos/complexity_chart.png)\n",
    "\n",
    "[..back](#back)"
   ]
  }
 ],
 "metadata": {
  "kernelspec": {
   "display_name": "Python 3",
   "language": "python",
   "name": "python3"
  },
  "language_info": {
   "codemirror_mode": {
    "name": "ipython",
    "version": 3
   },
   "file_extension": ".py",
   "mimetype": "text/x-python",
   "name": "python",
   "nbconvert_exporter": "python",
   "pygments_lexer": "ipython3",
   "version": "3.6.9"
  },
  "toc": {
   "base_numbering": 1,
   "nav_menu": {},
   "number_sections": true,
   "sideBar": true,
   "skip_h1_title": false,
   "title_cell": "Table of Contents",
   "title_sidebar": "Contents",
   "toc_cell": false,
   "toc_position": {},
   "toc_section_display": true,
   "toc_window_display": true
  }
 },
 "nbformat": 4,
 "nbformat_minor": 2
}
